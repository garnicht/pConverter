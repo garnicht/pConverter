{
 "cells": [
  {
   "cell_type": "code",
   "execution_count": null,
   "metadata": {},
   "outputs": [],
   "source": [
    "import pandas as pd\n",
    "import numpy as np\n",
    "import os "
   ]
  },
  {
   "cell_type": "code",
   "execution_count": null,
   "metadata": {},
   "outputs": [],
   "source": [
    "# transform csv to df\n",
    "try:\n",
    "    artikelliste_df = pd.read_csv(\"import.csv\", sep=\";\")\n",
    "except Exception as e:\n",
    "    print(e)\n",
    "artikelliste_df.head()"
   ]
  },
  {
   "cell_type": "code",
   "execution_count": null,
   "metadata": {},
   "outputs": [],
   "source": [
    "# gourp by Bezeichnung aka Artikelnummer to cumulate dublicates and get rid of NaN rows\n",
    "artikelliste_df = artikelliste_df.groupby(\"Bezeichnung\")[\"Menge\"].sum().reset_index()"
   ]
  },
  {
   "cell_type": "code",
   "execution_count": null,
   "metadata": {},
   "outputs": [],
   "source": [
    "# handle the columns we need / don't need\n",
    "try: \n",
    "    artikelliste_df.insert(0,\"Kopfartikelnummer\",np.nan)\n",
    "    artikelliste_df.insert(1,\"Parent article name\",np.nan)\n",
    "    artikelliste_df.insert(2,\"Parent article description\",np.nan)\n",
    "    artikelliste_df.insert(4,\"Article name\",np.nan)\n",
    "    artikelliste_df.insert(5,\"Article description\",np.nan)\n",
    "    artikelliste_df.insert(7,\"Position no.\",np.nan)\n",
    "except Exception as e:\n",
    "    print(e) \n",
    "       \n",
    "artikelliste_df"
   ]
  },
  {
   "cell_type": "code",
   "execution_count": null,
   "metadata": {},
   "outputs": [],
   "source": [
    "#change name of existing columns\n",
    "try:\n",
    "    artikelliste_df.rename(columns={\"Bezeichnung\":\"Artikelnummer\",\"Menge\":\"QUANTITY\"},inplace=True)\n",
    "except Exception as e:\n",
    "    print(e)\n",
    "    \n",
    "artikelliste_df.head()"
   ]
  },
  {
   "cell_type": "code",
   "execution_count": null,
   "metadata": {},
   "outputs": [],
   "source": [
    "# ask for input and insert into df\n",
    "artikelnummer = input(\"Wie lautet die Kopfartikelnummer?:\")\n",
    "artikelliste_df[\"Kopfartikelnummer\"] = artikelnummer\n",
    "artikelliste_df.head(10)"
   ]
  },
  {
   "cell_type": "code",
   "execution_count": null,
   "metadata": {},
   "outputs": [],
   "source": [
    "artikelnummer_dublicates_df = artikelliste_df[artikelliste_df[\"Artikelnummer\"].duplicated(keep=False)]\n",
    "artikelnummer_dublicates_df.head()"
   ]
  },
  {
   "cell_type": "code",
   "execution_count": null,
   "metadata": {},
   "outputs": [],
   "source": [
    "artikelliste_df.to_csv(f\"finished_{artikelnummer}.csv\", index=False, sep=\";\")"
   ]
  }
 ],
 "metadata": {
  "kernelspec": {
   "display_name": "Python 3",
   "language": "python",
   "name": "python3"
  },
  "language_info": {
   "codemirror_mode": {
    "name": "ipython",
    "version": 3
   },
   "file_extension": ".py",
   "mimetype": "text/x-python",
   "name": "python",
   "nbconvert_exporter": "python",
   "pygments_lexer": "ipython3",
   "version": "3.12.3"
  }
 },
 "nbformat": 4,
 "nbformat_minor": 2
}
