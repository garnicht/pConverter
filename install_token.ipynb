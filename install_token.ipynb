{
 "cells": [
  {
   "cell_type": "code",
   "execution_count": 15,
   "metadata": {},
   "outputs": [],
   "source": [
    "from sys import platform\n",
    "import os"
   ]
  },
  {
   "cell_type": "code",
   "execution_count": 6,
   "metadata": {},
   "outputs": [],
   "source": [
    "def ask_for_token(path):\n",
    "    with open(path,\"w\") as file:\n",
    "        token = input(\"Wie lautet dein token?:\")\n",
    "        content = f\"weclapp_token = '{token}'\"\n",
    "        file.write(content)"
   ]
  },
  {
   "cell_type": "code",
   "execution_count": 16,
   "metadata": {},
   "outputs": [],
   "source": [
    "def create_env(operating_sys):\n",
    "    if operating_sys == \"darwin\":\n",
    "        \n",
    "        config_dir = os.path.expanduser(\"~/.config\")\n",
    "        env_file_path = os.path.join(config_dir, \".env\")\n",
    "\n",
    "        if not os.path.exists(config_dir):\n",
    "            os.mkdir(config_dir)\n",
    "            ask_for_token(env_file_path)\n",
    "\n",
    "        elif not os.path.exists(env_file_path):\n",
    "            ask_for_token(env_file_path)\n",
    "\n",
    "        ask_for_token(env_file_path)\n",
    "        \n",
    "    elif operating_sys == \"windows\":\n",
    "        \n",
    "        config_dir = os.path.expanduser(\"~\\\\AppData\\\\Local\\\\MyApp\")\n",
    "        env_file_path = os.path.join(config_dir, \".env\")\n",
    "\n",
    "        if not os.path.exists(config_dir):\n",
    "            os.makedirs(config_dir)\n",
    "            ask_for_token(env_file_path)\n",
    "\n",
    "        elif not os.path.exists(env_file_path):\n",
    "            ask_for_token(env_file_path)\n",
    "        \n",
    "        ask_for_token(env_file_path)\n",
    "\n",
    "    else:\n",
    "        print(\"Betriebssystem wird nicht unterstützt\")"
   ]
  },
  {
   "cell_type": "code",
   "execution_count": 17,
   "metadata": {},
   "outputs": [],
   "source": [
    "create_env(platform)\n",
    "input(\"Press enter to finish\")"
   ]
  }
 ],
 "metadata": {
  "kernelspec": {
   "display_name": "pcon_env",
   "language": "python",
   "name": "python3"
  },
  "language_info": {
   "codemirror_mode": {
    "name": "ipython",
    "version": 3
   },
   "file_extension": ".py",
   "mimetype": "text/x-python",
   "name": "python",
   "nbconvert_exporter": "python",
   "pygments_lexer": "ipython3",
   "version": "3.12.3"
  }
 },
 "nbformat": 4,
 "nbformat_minor": 2
}
