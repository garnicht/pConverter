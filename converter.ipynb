{
 "cells": [
  {
   "cell_type": "code",
   "execution_count": null,
   "metadata": {},
   "outputs": [],
   "source": [
    "import pandas as pd\n",
    "import numpy as np\n",
    "import os "
   ]
  },
  {
   "cell_type": "code",
   "execution_count": null,
   "metadata": {},
   "outputs": [],
   "source": [
    "# transform csv to df\n",
    "try:\n",
    "    artikelliste_df = pd.read_csv(\"import.csv\", sep=\";\")\n",
    "except Exception as e:\n",
    "    print(e)\n",
    "artikelliste_df.head()"
   ]
  },
  {
   "cell_type": "code",
   "execution_count": null,
   "metadata": {},
   "outputs": [],
   "source": [
    "# create / delete  the columns we need / dont need\n",
    "try: \n",
    "    artikelliste_df.drop(columns=\"Pos\", inplace=True)\n",
    "    artikelliste_df.insert(0,\"Kopfartikelnummer\",np.nan)\n",
    "    artikelliste_df.insert(1,\"Parent article name\",np.nan)\n",
    "    artikelliste_df.insert(2,\"Parent article description\",np.nan)\n",
    "    artikelliste_df.insert(4,\"Article name\",np.nan)\n",
    "    artikelliste_df.insert(5,\"Article description\",np.nan)\n",
    "    artikelliste_df.insert(7,\"Position no.\",np.nan)\n",
    "except Exception as e:\n",
    "    print(e) \n",
    "       \n",
    "artikelliste_df.head()"
   ]
  },
  {
   "cell_type": "code",
   "execution_count": null,
   "metadata": {},
   "outputs": [],
   "source": [
    "#change name of existing columns\n",
    "try:\n",
    "    artikelliste_df.rename(columns={\"Bezeichnung\":\"Artikelnummer\",\"Menge\":\"QUANTITY\"},inplace=True)\n",
    "except Exception as e:\n",
    "    print(e)\n",
    "    \n",
    "artikelliste_df.head()"
   ]
  },
  {
   "cell_type": "code",
   "execution_count": null,
   "metadata": {},
   "outputs": [],
   "source": [
    "# remove the redundant NaN rows\n",
    "artikelliste_df = artikelliste_df[artikelliste_df[\"Artikelnummer\"].notna()]\n",
    "artikelliste_df.head()"
   ]
  },
  {
   "cell_type": "code",
   "execution_count": null,
   "metadata": {},
   "outputs": [],
   "source": [
    "# ask for input and insert into df\n",
    "artikelnummer = input(\"Wie lautet die Kopfartikelnummer?:\")\n",
    "artikelliste_df[\"Kopfartikelnummer\"] = artikelnummer\n",
    "artikelliste_df.head()"
   ]
  },
  {
   "cell_type": "code",
   "execution_count": null,
   "metadata": {},
   "outputs": [],
   "source": [
    "# create new csv\n",
    "if os.path.exists(\"finished.csv\"):\n",
    "    print(\"finished.csv gibt es bereits.\")\n",
    "    dateiname = input(\"Bitte Tippe einen neuen Namen für die Datei ein (Ohne '.csv'):\")\n",
    "    artikelliste_df.to_csv(f\"{dateiname}.csv\", index=False, sep=\";\")\n",
    "\n",
    "else:\n",
    "    artikelliste_df.to_csv(\"finished.csv\", index=False, sep=\";\")"
   ]
  }
 ],
 "metadata": {
  "kernelspec": {
   "display_name": "Python 3",
   "language": "python",
   "name": "python3"
  },
  "language_info": {
   "codemirror_mode": {
    "name": "ipython",
    "version": 3
   },
   "file_extension": ".py",
   "mimetype": "text/x-python",
   "name": "python",
   "nbconvert_exporter": "python",
   "pygments_lexer": "ipython3",
   "version": "3.12.3"
  }
 },
 "nbformat": 4,
 "nbformat_minor": 2
}
