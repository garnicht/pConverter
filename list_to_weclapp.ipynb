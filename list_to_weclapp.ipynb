{
 "cells": [
  {
   "cell_type": "code",
   "execution_count": null,
   "metadata": {},
   "outputs": [],
   "source": [
    "import requests\n",
    "import os\n",
    "from dotenv import load_dotenv\n",
    "import pandas as pd"
   ]
  },
  {
   "cell_type": "code",
   "execution_count": null,
   "metadata": {},
   "outputs": [],
   "source": [
    "load_dotenv()"
   ]
  },
  {
   "cell_type": "code",
   "execution_count": null,
   "metadata": {},
   "outputs": [],
   "source": [
    "def create_article(article_number, article_name):\n",
    "    url = \"https://degridstudio.weclapp.com/webapp/api/v1/article\"\n",
    "    token = os.getenv(\"weclapp_token\")\n",
    "    headers = {\"AuthenticationToken\" : token,\n",
    "               \"Content-Type\" : \"application/json\"}\n",
    "    content = {\"articleNumber\" : article_number,\n",
    "               \"name\" : article_name}\n",
    "    \n",
    "    re = requests.post(url=url,headers=headers,json=content)\n",
    "\n",
    "    if re.status_code == 201:\n",
    "        print(f\"Artikel {article_number} erfolgreich erstellt\")\n",
    "    else:\n",
    "        print(f\"Fehler beim Erstellen von Artikel {article_number}\")\n",
    "        print(\"Status Code:\", re.status_code, \"Content:\", re.content)"
   ]
  },
  {
   "cell_type": "code",
   "execution_count": null,
   "metadata": {},
   "outputs": [],
   "source": [
    "create_article(\"testerei\",\"testerei\")"
   ]
  },
  {
   "cell_type": "code",
   "execution_count": null,
   "metadata": {},
   "outputs": [],
   "source": [
    "url = \"https://degridstudio.weclapp.com/webapp/api/v1/article?sort=-lastModifiedDate\"\n",
    "token = os.getenv(\"weclapp_token\")\n",
    "headers = {\"AuthenticationToken\" : token,\n",
    "           \"Content-Type\" : \"application/json\"}\n",
    "\n",
    "re = requests.get(url=url,headers=headers)\n",
    "re"
   ]
  },
  {
   "cell_type": "code",
   "execution_count": null,
   "metadata": {},
   "outputs": [],
   "source": [
    "re.status_code"
   ]
  },
  {
   "cell_type": "code",
   "execution_count": null,
   "metadata": {},
   "outputs": [],
   "source": [
    "re_json = re.json()"
   ]
  },
  {
   "cell_type": "code",
   "execution_count": null,
   "metadata": {},
   "outputs": [],
   "source": [
    "re_json[\"result\"]"
   ]
  },
  {
   "cell_type": "code",
   "execution_count": null,
   "metadata": {},
   "outputs": [],
   "source": [
    "df = pd.DataFrame(re_json[\"result\"])"
   ]
  },
  {
   "cell_type": "code",
   "execution_count": null,
   "metadata": {},
   "outputs": [],
   "source": [
    "df.head(20)"
   ]
  }
 ],
 "metadata": {
  "kernelspec": {
   "display_name": "pcon_env",
   "language": "python",
   "name": "python3"
  },
  "language_info": {
   "codemirror_mode": {
    "name": "ipython",
    "version": 3
   },
   "file_extension": ".py",
   "mimetype": "text/x-python",
   "name": "python",
   "nbconvert_exporter": "python",
   "pygments_lexer": "ipython3",
   "version": "3.1.-1"
  }
 },
 "nbformat": 4,
 "nbformat_minor": 2
}
