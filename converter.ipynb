{
 "cells": [
  {
   "cell_type": "code",
   "execution_count": 1,
   "metadata": {},
   "outputs": [],
   "source": [
    "import pandas as pd\n",
    "import numpy as np"
   ]
  },
  {
   "cell_type": "code",
   "execution_count": 2,
   "metadata": {},
   "outputs": [],
   "source": [
    "def detect_encoding(file_path):\n",
    "    # Try reading the file with different encodings\n",
    "    encodings = ['utf-8', 'latin1', 'cp1252', 'windows-1252', 'ISO-8859-1']  # Add more encodings as necessary\n",
    "\n",
    "    for encoding in encodings:\n",
    "        try:\n",
    "            df = pd.read_csv(file_path, encoding=encoding)\n",
    "            return encoding\n",
    "        \n",
    "        except UnicodeDecodeError:\n",
    "            continue  # Try next encoding if current one fails\n",
    "\n",
    "    # If all encodings fail\n",
    "    raise ValueError(\"Could not determine the encoding of the CSV file\")"
   ]
  },
  {
   "cell_type": "code",
   "execution_count": 3,
   "metadata": {},
   "outputs": [],
   "source": [
    "# transform csv to df\n",
    "\n",
    "encoding = detect_encoding(\"import.csv\")\n",
    "\n",
    "try:\n",
    "    artikelliste_df = pd.read_csv(\"import.csv\", sep=\";\", encoding=encoding)\n",
    "except Exception as e:\n",
    "    print(e)"
   ]
  },
  {
   "cell_type": "code",
   "execution_count": 4,
   "metadata": {},
   "outputs": [],
   "source": [
    "# get rid of empty Strings\n",
    "artikelliste_df = artikelliste_df.apply(lambda x: x.replace(\"\", None))"
   ]
  },
  {
   "cell_type": "code",
   "execution_count": 5,
   "metadata": {},
   "outputs": [],
   "source": [
    "artikelliste_df = artikelliste_df.query(\"Pos.notnull()\")"
   ]
  },
  {
   "cell_type": "code",
   "execution_count": 6,
   "metadata": {},
   "outputs": [],
   "source": [
    "# gourp by Bezeichnung aka Artikelnummer to cumulate dublicates and get rid of NaN rows\n",
    "artikelliste_df = artikelliste_df.groupby(\"Bezeichnung\")[\"Menge\"].sum().reset_index()"
   ]
  },
  {
   "cell_type": "code",
   "execution_count": 7,
   "metadata": {},
   "outputs": [],
   "source": [
    "# handle the columns we need / don't need\n",
    "try: \n",
    "    artikelliste_df.insert(0,\"Kopfartikelnummer\",np.nan)\n",
    "    artikelliste_df.insert(1,\"platzhalter1\",np.nan)\n",
    "    artikelliste_df.insert(2,\"platzhalter2\",np.nan)\n",
    "    artikelliste_df.insert(3,\"platzhalter3\",np.nan)\n",
    "    artikelliste_df.insert(4,\"platzhalter4\",np.nan)\n",
    "    artikelliste_df.insert(5,\"platzhalter5\",np.nan)\n",
    "except Exception as e:\n",
    "    print(e)"
   ]
  },
  {
   "cell_type": "code",
   "execution_count": 8,
   "metadata": {},
   "outputs": [],
   "source": [
    "#change name of existing columns\n",
    "try:\n",
    "    artikelliste_df.rename(columns={\"Bezeichnung\":\"Artikelnummer\",\"Menge\":\"Anzahl\"},inplace=True)\n",
    "except Exception as e:\n",
    "    print(e)"
   ]
  },
  {
   "cell_type": "code",
   "execution_count": 9,
   "metadata": {},
   "outputs": [],
   "source": [
    "# ask for input and insert into df\n",
    "artikelnummer = input(\"Wie lautet die Kopfartikelnummer?:\")\n",
    "artikelliste_df[\"Kopfartikelnummer\"] = artikelnummer"
   ]
  },
  {
   "cell_type": "code",
   "execution_count": 10,
   "metadata": {},
   "outputs": [],
   "source": [
    "# get rid of dublicates\n",
    "if not artikelliste_df[artikelliste_df[\"Artikelnummer\"].duplicated()].empty:\n",
    "    artikelliste_df = artikelliste_df[artikelliste_df[\"Artikelnummer\"].duplicated(keep=False)]"
   ]
  },
  {
   "cell_type": "code",
   "execution_count": 11,
   "metadata": {},
   "outputs": [],
   "source": [
    "artikelliste_df.to_csv(f\"finished_{artikelnummer}.csv\", index=False, sep=\";\", encoding=\"ISO-8859-1\")"
   ]
  }
 ],
 "metadata": {
  "kernelspec": {
   "display_name": "Python 3",
   "language": "python",
   "name": "python3"
  },
  "language_info": {
   "codemirror_mode": {
    "name": "ipython",
    "version": 3
   },
   "file_extension": ".py",
   "mimetype": "text/x-python",
   "name": "python",
   "nbconvert_exporter": "python",
   "pygments_lexer": "ipython3",
   "version": "3.12.3"
  }
 },
 "nbformat": 4,
 "nbformat_minor": 2
}
