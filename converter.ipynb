{
 "cells": [
  {
   "cell_type": "code",
   "execution_count": null,
   "metadata": {},
   "outputs": [],
   "source": [
    "import pandas as pd\n",
    "import numpy as np\n",
    "import os\n",
    "from weclapp_api import create_article, get_recent_articles"
   ]
  },
  {
   "cell_type": "code",
   "execution_count": null,
   "metadata": {},
   "outputs": [],
   "source": [
    "def detect_encoding(file_path):\n",
    "    # Try reading the file with different encodings\n",
    "    encodings = ['utf-8', 'latin1', 'cp1252', 'windows-1252', 'ISO-8859-1']  # Add more encodings as necessary\n",
    "\n",
    "    for encoding in encodings:\n",
    "        try:\n",
    "            df = pd.read_csv(file_path, encoding=encoding)\n",
    "            return encoding\n",
    "        \n",
    "        except UnicodeDecodeError:\n",
    "            continue  # Try next encoding if current one fails\n",
    "\n",
    "    # If all encodings fail\n",
    "    raise ValueError(\"Could not determine the encoding of the CSV file\")"
   ]
  },
  {
   "cell_type": "code",
   "execution_count": null,
   "metadata": {},
   "outputs": [],
   "source": [
    "def handle_columns(df):\n",
    "    \n",
    "    try: \n",
    "        df.insert(0,\"Kopfartikelnummer\",np.nan)\n",
    "        df.insert(1,\"Kopfartikelname\",np.nan)\n",
    "        df.insert(2,\"Kopfartikelbeschreibung\",np.nan)\n",
    "        df.insert(3,\"Artikelname\",np.nan)\n",
    "        df.insert(4,\"Artikelbeschreibung\",np.nan)\n",
    "        df.insert(5,\"Positionsnummer\",np.nan)\n",
    "        df.rename(columns={\"Bezeichnung\":\"Artikelnummer\",\"Menge\":\"Anzahl\"},inplace=True)\n",
    "    except Exception as e:\n",
    "        print(e)"
   ]
  },
  {
   "cell_type": "code",
   "execution_count": null,
   "metadata": {},
   "outputs": [],
   "source": [
    "def get_grid_type_and_colour(df_grouped):\n",
    "    dummy = df_grouped[df_grouped[\"Artikelnummer\"].str.startswith((\"G.\", \"GF\"))]\n",
    "    \n",
    "    typ = dummy.iloc[0][\"Artikelnummer\"].split(\".\")[0]\n",
    "\n",
    "    if dummy.iloc[0][\"Artikelnummer\"].split(\".\")[1] == \"NB\":\n",
    "        colour = \"NB\"\n",
    "    elif dummy.iloc[0][\"Artikelnummer\"].split(\".\")[1] == \"NG\":\n",
    "        colour = \"NG\"\n",
    "    elif dummy.iloc[0][\"Artikelnummer\"].split(\".\")[1] == \"NW\":\n",
    "        colour = \"NW\"\n",
    "    \n",
    "    else:\n",
    "        print(\"coudn't recognize colour\")\n",
    "    \n",
    "    return typ,colour"
   ]
  },
  {
   "cell_type": "code",
   "execution_count": null,
   "metadata": {},
   "outputs": [],
   "source": [
    "def solve_sm4_case():\n",
    "    # test SM4\n",
    "    if not artikelliste_df_grouped[artikelliste_df_grouped[\"Artikelnummer\"].str.startswith(\"SM4\")].empty:\n",
    "        \n",
    "        dummy_grouped = artikelliste_df_grouped[artikelliste_df_grouped[\"Artikelnummer\"].str.startswith((\"G.\", \"GF\"))]\n",
    "\n",
    "        # test existing Grids and their colours \n",
    "        if artikelliste_df_grouped[artikelliste_df_grouped[\"Artikelnummer\"].str.startswith((\"G.\", \"GF\"))].shape[0] > 1:\n",
    "            print(\"The Cubes in this configuration do have different colours or are mixed with flame retardned and normal. The special case about SM4 cannot be solved now. Be aware.\")\n",
    "        \n",
    "        elif (dummy_grouped[\"Anzahl\"] <=2).any():\n",
    "            print(\"Zu wenige Grids in Liste. SM4 cant be solved. Be aware!\")\n",
    "        \n",
    "        else: \n",
    "\n",
    "            # normale Grids minus 2 \n",
    "            artikelliste_df_grouped.loc[artikelliste_df_grouped[\"Artikelnummer\"].str.startswith((\"G.\", \"GF\")), \"Anzahl\"] -= 2\n",
    "\n",
    "            # spezielle Grid + 1 je nach farbe\n",
    "            typ, colour = get_grid_type_and_colour(artikelliste_df_grouped)\n",
    "            artikelnummer = typ + \".\" + colour + \"_SM4\"\n",
    "            artikelliste_df_grouped.loc[len(artikelliste_df_grouped)]  = {\"Kopfartikelnummer\":kopfartikelnummer, \"Artikelnummer\":artikelnummer , \"Anzahl\":1}"
   ]
  },
  {
   "cell_type": "code",
   "execution_count": null,
   "metadata": {},
   "outputs": [],
   "source": [
    "# create csv for upload\n",
    "\n",
    "for file in os.listdir():\n",
    "    if file.endswith(\".csv\"):\n",
    "        \n",
    "        kopfartikelnummer = file.split(\".\")[0]\n",
    "        encoding = detect_encoding(file)\n",
    "        \n",
    "        try:\n",
    "            artikelliste_df = pd.read_csv(file, sep=\";\", encoding=encoding)\n",
    "        except Exception as e:\n",
    "            print(e)\n",
    "        \n",
    "        # get rid of empty Strings\n",
    "        artikelliste_df = artikelliste_df.apply(lambda x: x.replace(\"\", None))\n",
    "        \n",
    "        #query and group\n",
    "        artikelliste_df.query(\"Pos.notnull()\", inplace=True)\n",
    "        artikelliste_df_grouped = artikelliste_df.groupby(\"Bezeichnung\")[\"Menge\"].sum().reset_index()\n",
    "        \n",
    "        handle_columns(artikelliste_df_grouped)\n",
    "        \n",
    "        artikelliste_df_grouped[\"Kopfartikelnummer\"] = kopfartikelnummer\n",
    "\n",
    "        # solve special cases\n",
    "        try:\n",
    "            solve_sm4_case()\n",
    "\n",
    "        except Exception as e:\n",
    "            print(e)\n",
    "        \n",
    "        #create article in weclapp and upload Stückliste\n",
    "        try:\n",
    "            artikelliste_df_grouped.rename(inplace=True, columns={\"Artikelnummer\":\"articleNumber\", \"Anzahl\":\"quantity\"})\n",
    "            dics_to_upload = artikelliste_df_grouped[[\"articleNumber\",\"quantity\"]].to_dict(orient=\"records\")\n",
    "            article_number = kopfartikelnummer\n",
    "            article_name = input(f\"Wie lautet der Artikelname von {article_number}:\")\n",
    "            create_article(kopfartikelnummer, article_name, dics_to_upload)\n",
    "        except Exception as e:\n",
    "            print(f\"Error with create_article function. Code: {e}\")\n",
    "        \n",
    "        # create finished csvs\n",
    "        artikelliste_df_grouped.to_csv(f\"finished_{kopfartikelnummer}.csv\", index=False, sep=\";\", encoding=\"ISO-8859-1\")"
   ]
  },
  {
   "cell_type": "code",
   "execution_count": null,
   "metadata": {},
   "outputs": [],
   "source": [
    "input(\"Press Enter to finish the script\")"
   ]
  }
 ],
 "metadata": {
  "kernelspec": {
   "display_name": "Python 3",
   "language": "python",
   "name": "python3"
  },
  "language_info": {
   "codemirror_mode": {
    "name": "ipython",
    "version": 3
   },
   "file_extension": ".py",
   "mimetype": "text/x-python",
   "name": "python",
   "nbconvert_exporter": "python",
   "pygments_lexer": "ipython3",
   "version": "3.12.3"
  }
 },
 "nbformat": 4,
 "nbformat_minor": 2
}
