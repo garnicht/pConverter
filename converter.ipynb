{
 "cells": [
  {
   "cell_type": "code",
   "execution_count": null,
   "metadata": {},
   "outputs": [],
   "source": [
    "import pandas as pd\n",
    "import numpy as np\n",
    "import os"
   ]
  },
  {
   "cell_type": "code",
   "execution_count": null,
   "metadata": {},
   "outputs": [],
   "source": [
    "def detect_encoding(file_path):\n",
    "    # Try reading the file with different encodings\n",
    "    encodings = ['utf-8', 'latin1', 'cp1252', 'windows-1252', 'ISO-8859-1']  # Add more encodings as necessary\n",
    "\n",
    "    for encoding in encodings:\n",
    "        try:\n",
    "            df = pd.read_csv(file_path, encoding=encoding)\n",
    "            return encoding\n",
    "        \n",
    "        except UnicodeDecodeError:\n",
    "            continue  # Try next encoding if current one fails\n",
    "\n",
    "    # If all encodings fail\n",
    "    raise ValueError(\"Could not determine the encoding of the CSV file\")"
   ]
  },
  {
   "cell_type": "code",
   "execution_count": null,
   "metadata": {},
   "outputs": [],
   "source": [
    "def handle_columns(df):\n",
    "    \n",
    "    try: \n",
    "        df.insert(0,\"Kopfartikelnummer\",np.nan)\n",
    "        df.insert(1,\"Kopfartikelname\",np.nan)\n",
    "        df.insert(2,\"Kopfartikelbeschreibung\",np.nan)\n",
    "        df.insert(3,\"Artikelname\",np.nan)\n",
    "        df.insert(4,\"Artikelbeschreibung\",np.nan)\n",
    "        df.insert(5,\"Positionsnummer\",np.nan)\n",
    "        df.rename(columns={\"Bezeichnung\":\"Artikelnummer\",\"Menge\":\"Anzahl\"},inplace=True)\n",
    "    except Exception as e:\n",
    "        print(e)"
   ]
  },
  {
   "cell_type": "code",
   "execution_count": null,
   "metadata": {},
   "outputs": [],
   "source": [
    "# loop through csvs, insert /delete the right columns and insert kopfartikelnummer\n",
    "\n",
    "for file in os.listdir():\n",
    "    if file.endswith(\".csv\"):\n",
    "        \n",
    "        kopfartikelnummer = file.split(\".\")[0]\n",
    "        encoding = detect_encoding(file)\n",
    "        \n",
    "        try:\n",
    "            artikelliste_df = pd.read_csv(file, sep=\";\", encoding=encoding)\n",
    "        except Exception as e:\n",
    "            print(e)\n",
    "        \n",
    "        # get rid of empty Strings\n",
    "        artikelliste_df = artikelliste_df.apply(lambda x: x.replace(\"\", None))\n",
    "        \n",
    "        #query and group\n",
    "        artikelliste_df.query(\"Pos.notnull()\", inplace=True)\n",
    "        artikelliste_df_grouped = artikelliste_df.groupby(\"Bezeichnung\")[\"Menge\"].sum().reset_index()\n",
    "        \n",
    "        handle_columns(artikelliste_df_grouped)\n",
    "        \n",
    "        artikelliste_df_grouped[\"Kopfartikelnummer\"] = kopfartikelnummer\n",
    "\n",
    "        artikelliste_df_grouped.to_csv(f\"finished_{kopfartikelnummer}.csv\", index=False, sep=\";\", encoding=\"ISO-8859-1\")"
   ]
  },
  {
   "cell_type": "code",
   "execution_count": null,
   "metadata": {},
   "outputs": [],
   "source": [
    "input(\"Press Enter to finish the script\")"
   ]
  }
 ],
 "metadata": {
  "kernelspec": {
   "display_name": "Python 3",
   "language": "python",
   "name": "python3"
  },
  "language_info": {
   "codemirror_mode": {
    "name": "ipython",
    "version": 3
   },
   "file_extension": ".py",
   "mimetype": "text/x-python",
   "name": "python",
   "nbconvert_exporter": "python",
   "pygments_lexer": "ipython3",
   "version": "3.12.3"
  }
 },
 "nbformat": 4,
 "nbformat_minor": 2
}
